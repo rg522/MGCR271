{
 "cells": [
  {
   "cell_type": "code",
   "execution_count": 7,
   "id": "511bb1b6",
   "metadata": {},
   "outputs": [
    {
     "data": {
      "application/vnd.jupyter.widget-view+json": {
       "model_id": "1331e921a2fa4050b26a903efd4d829f",
       "version_major": 2,
       "version_minor": 0
      },
      "text/plain": [
       "interactive(children=(FloatSlider(value=1.0, continuous_update=False, description='Constant a:', max=50.0, min…"
      ]
     },
     "metadata": {},
     "output_type": "display_data"
    }
   ],
   "source": [
    "import numpy as np\n",
    "import matplotlib.pyplot as plt\n",
    "import ipywidgets as widgets\n",
    "from IPython.display import display, clear_output\n",
    "\n",
    "# Constants to define the distributions\n",
    "mean1, mean2 = 5, 13.2\n",
    "sd1, sd2 = 2.9, 17.6\n",
    "correlation = -0.11\n",
    "weights = [0.2, 0.8]\n",
    "\n",
    "# Covariance matrix for generating the data\n",
    "cov_matrix = [[sd1**2, correlation * sd1 * sd2], [correlation * sd1 * sd2, sd2**2]]\n",
    "\n",
    "# Generate multivariate normal data\n",
    "data1, data2 = np.random.multivariate_normal([mean1, mean2], cov_matrix, 100).T\n",
    "\n",
    "def plot_data(a=1, add_datasets=False):\n",
    "    # Apply the constant to the dataset\n",
    "    scaled_data1 = a * data1\n",
    "    scaled_data2 = a * data2\n",
    "    \n",
    "    # If adding datasets, compute the weighted sum\n",
    "    summed_data = weights[0] * scaled_data1 + weights[1] * scaled_data2 if add_datasets else None\n",
    "    \n",
    "    # Plotting\n",
    "    plt.figure(figsize=(10, 6))\n",
    "    if not add_datasets:\n",
    "        plt.scatter(range(len(scaled_data1)), scaled_data1, alpha=0.6, label=f\"Stock X (Var: {np.var(scaled_data1):.2f})\")\n",
    "        plt.scatter(range(len(scaled_data2)), scaled_data2, alpha=0.6, label=f\"Stock Y (Var: {np.var(scaled_data2):.2f})\", color=\"green\")\n",
    "    else:\n",
    "        plt.scatter(range(len(summed_data)), summed_data, alpha=0.6, label=f\"Weighted Portfolio (Var: {np.var(summed_data):.2f})\", color=\"red\")\n",
    "    \n",
    "    plt.legend()\n",
    "    plt.title(f\"Scatter Plot of Stock Returns with a={a}\")\n",
    "    plt.xlabel(\"Day\")\n",
    "    plt.ylabel(\"Return Value\")\n",
    "    plt.grid(True)\n",
    "    plt.show()\n",
    "\n",
    "# Widgets\n",
    "a_slider = widgets.FloatSlider(\n",
    "    value=1,\n",
    "    min=1,\n",
    "    max=50.0,  # Adjusted to allow for larger values\n",
    "    step=0.1,\n",
    "    description='Constant a:',\n",
    "    continuous_update=False\n",
    ")\n",
    "\n",
    "add_checkbox = widgets.Checkbox(\n",
    "    value=False,\n",
    "    description='Compute Portfolio',\n",
    "    disabled=False\n",
    ")\n",
    "\n",
    "# Interactive display\n",
    "widgets.interactive(plot_data, a=a_slider, add_datasets=add_checkbox)\n"
   ]
  },
  {
   "cell_type": "code",
   "execution_count": 13,
   "id": "49c9d3a5",
   "metadata": {},
   "outputs": [
    {
     "data": {
      "application/vnd.jupyter.widget-view+json": {
       "model_id": "58bde5b4e8ad4550abe1c6c57fda089e",
       "version_major": 2,
       "version_minor": 0
      },
      "text/plain": [
       "interactive(children=(FloatSlider(value=1.0, continuous_update=False, description='Constant c:', max=10.0, min…"
      ]
     },
     "metadata": {},
     "output_type": "display_data"
    }
   ],
   "source": [
    "# Visualisation of Scaling Variance\n",
    "\n",
    "# Generate a new dataset of 100 data points with a given mean and standard deviation\n",
    "mean = 10\n",
    "sd = 6.9\n",
    "data = np.random.normal(mean, sd, 100)\n",
    "\n",
    "def plot_scaled_data(c=1):\n",
    "    # Scale the entire dataset\n",
    "    scaled_data = c * data\n",
    "    \n",
    "    # Generate mean-scaled data: scaled mean but original variance\n",
    "    mean_scaled_data = ((c-1) * np.mean(data)) + data\n",
    "    \n",
    "    # Plotting\n",
    "    plt.figure(figsize=(10, 6))\n",
    "    plt.scatter(range(len(scaled_data)), scaled_data, alpha=0.6, label=f\"Scaled Data (Var: {np.var(scaled_data):.2f})\")\n",
    "    plt.scatter(range(len(mean_scaled_data)), mean_scaled_data, alpha=0.3, label=f\"Mean-Scaled Data (Var: {np.var(mean_scaled_data):.2f})\", color=\"red\")\n",
    "    \n",
    "    plt.legend()\n",
    "    plt.title(f\"Comparison of Correctly and Incorrectly Scaled Variance with c={c}\")\n",
    "    plt.xlabel(\"Index\")\n",
    "    plt.ylabel(\"Value\")\n",
    "    plt.grid(True)\n",
    "    plt.show()\n",
    "\n",
    "# Interactive slider\n",
    "c_slider = widgets.FloatSlider(\n",
    "    value=1,\n",
    "    min=0.1,\n",
    "    max=10.0,\n",
    "    step=0.1,\n",
    "    description='Constant c:',\n",
    "    continuous_update=False\n",
    ")\n",
    "\n",
    "# Display\n",
    "widgets.interactive(plot_scaled_data, c=c_slider)\n"
   ]
  },
  {
   "cell_type": "code",
   "execution_count": null,
   "id": "061eb401",
   "metadata": {},
   "outputs": [],
   "source": []
  },
  {
   "cell_type": "code",
   "execution_count": null,
   "id": "34a074c6",
   "metadata": {},
   "outputs": [],
   "source": []
  }
 ],
 "metadata": {
  "kernelspec": {
   "display_name": "Python 3 (ipykernel)",
   "language": "python",
   "name": "python3"
  },
  "language_info": {
   "codemirror_mode": {
    "name": "ipython",
    "version": 3
   },
   "file_extension": ".py",
   "mimetype": "text/x-python",
   "name": "python",
   "nbconvert_exporter": "python",
   "pygments_lexer": "ipython3",
   "version": "3.9.7"
  }
 },
 "nbformat": 4,
 "nbformat_minor": 5
}
